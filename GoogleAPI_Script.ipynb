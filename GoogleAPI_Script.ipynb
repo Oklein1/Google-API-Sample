{
 "cells": [
  {
   "cell_type": "code",
   "execution_count": 1,
   "metadata": {},
   "outputs": [],
   "source": [
    "import requests #import libraries\n",
    "import pandas as pd\n",
    "import numpy as np\n",
    "import os"
   ]
  },
  {
   "cell_type": "code",
   "execution_count": 2,
   "metadata": {},
   "outputs": [
    {
     "data": {
      "text/plain": [
       "'C:\\\\Users\\\\OKlein\\\\Desktop\\\\Tim project'"
      ]
     },
     "execution_count": 2,
     "metadata": {},
     "output_type": "execute_result"
    }
   ],
   "source": [
    "os.getcwd() #Locating current working directory"
   ]
  },
  {
   "cell_type": "code",
   "execution_count": 6,
   "metadata": {},
   "outputs": [],
   "source": [
    "def Google_OD(x):        #create function with a parameter of x \n",
    "                         #as a placeholder for the input's filename\n",
    "    \n",
    "    df = pd.read_csv(x) #set future file input as Dataframe\n",
    "    \n",
    "    #df[\"Distance\"] = np.nan <- Example for place to potentially add new columns\n",
    "    #df[\"Duration\"] = np.nan    \n",
    "    \n",
    "    for index, row in df.iterrows():   \n",
    "        params = {                     #Parameters as dictionary to make the addition of further variables quick\n",
    "            'origin' : row['Origin'],  #and provides sycretic means to provide Google with requested parameters.\n",
    "            'destination' : row['Destination'],\n",
    "            'key': '' #insert API key here\n",
    "                 }\n",
    "        r = requests.get('https://maps.googleapis.com/maps/api/directions/json', params=params)\n",
    "        data = r.json()\n",
    "        routes = data['routes']\n",
    "        routes_count = len(routes)\n",
    "        if(routes_count > 0):\n",
    "            df.loc[ index,'Distance'] = routes[0]['legs'][0]['distance']['value'] #Adds data into predefined column names,\n",
    "            df.loc[ index ,'Duration'] = routes[0]['legs'][0]['duration']['value']#if more parameters are input, columns then need to be added.\n",
    "\n",
    "    df.to_csv('') #saves new dataframe into CSV\n",
    "\n",
    "Google_OD('') #input desired filename within parenthesis.\n"
   ]
  },
  {
   "cell_type": "code",
   "execution_count": null,
   "metadata": {},
   "outputs": [],
   "source": []
  }
 ],
 "metadata": {
  "kernelspec": {
   "display_name": "Python 3",
   "language": "python",
   "name": "python3"
  },
  "language_info": {
   "codemirror_mode": {
    "name": "ipython",
    "version": 3
   },
   "file_extension": ".py",
   "mimetype": "text/x-python",
   "name": "python",
   "nbconvert_exporter": "python",
   "pygments_lexer": "ipython3",
   "version": "3.7.3"
  }
 },
 "nbformat": 4,
 "nbformat_minor": 2
}
